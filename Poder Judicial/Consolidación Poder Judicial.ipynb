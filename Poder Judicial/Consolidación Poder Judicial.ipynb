{
 "cells": [
  {
   "cell_type": "code",
   "execution_count": 1,
   "metadata": {},
   "outputs": [],
   "source": [
    "import pandas as pd\n",
    "import os"
   ]
  },
  {
   "cell_type": "code",
   "execution_count": 36,
   "metadata": {},
   "outputs": [
    {
     "data": {
      "text/plain": [
       "1140"
      ]
     },
     "execution_count": 36,
     "metadata": {},
     "output_type": "execute_result"
    }
   ],
   "source": [
    "ruta = r\"C:\\Users\\Ian\\Documents\\GitHub\\delitos_chile\\Poder Judicial\\Consolidacion\"\n",
    "contenido = os.listdir(ruta)\n",
    "archivos = []\n",
    "for fichero in contenido:\n",
    "    if os.path.isfile(os.path.join(ruta, fichero)) and fichero.endswith('.xlsx'):\n",
    "        archivos.append(fichero)\n",
    "len(archivos)"
   ]
  },
  {
   "cell_type": "code",
   "execution_count": 37,
   "metadata": {
    "scrolled": true
   },
   "outputs": [
    {
     "data": {
      "text/html": [
       "<div>\n",
       "<style scoped>\n",
       "    .dataframe tbody tr th:only-of-type {\n",
       "        vertical-align: middle;\n",
       "    }\n",
       "\n",
       "    .dataframe tbody tr th {\n",
       "        vertical-align: top;\n",
       "    }\n",
       "\n",
       "    .dataframe thead th {\n",
       "        text-align: right;\n",
       "    }\n",
       "</style>\n",
       "<table border=\"1\" class=\"dataframe\">\n",
       "  <thead>\n",
       "    <tr style=\"text-align: right;\">\n",
       "      <th></th>\n",
       "      <th>Materia</th>\n",
       "      <th>Total</th>\n",
       "      <th>Tribunal</th>\n",
       "      <th>Informe</th>\n",
       "      <th>Año</th>\n",
       "      <th>Mes</th>\n",
       "    </tr>\n",
       "  </thead>\n",
       "  <tbody>\n",
       "    <tr>\n",
       "      <th>1</th>\n",
       "      <td>Abuso Sexual Con Contacto De Menor De 14 Años....</td>\n",
       "      <td>2</td>\n",
       "      <td>10º Juzgado De Garantia De Santiago</td>\n",
       "      <td>Ingresos Causas Por Materia</td>\n",
       "      <td>2019</td>\n",
       "      <td>Abríl</td>\n",
       "    </tr>\n",
       "    <tr>\n",
       "      <th>2</th>\n",
       "      <td>Abuso Sexual Sin Contacto Art. 366 Quáter Inc....</td>\n",
       "      <td>1</td>\n",
       "      <td>10º Juzgado De Garantia De Santiago</td>\n",
       "      <td>Ingresos Causas Por Materia</td>\n",
       "      <td>2019</td>\n",
       "      <td>Abríl</td>\n",
       "    </tr>\n",
       "    <tr>\n",
       "      <th>3</th>\n",
       "      <td>Allanamientos Irregulares.</td>\n",
       "      <td>1</td>\n",
       "      <td>10º Juzgado De Garantia De Santiago</td>\n",
       "      <td>Ingresos Causas Por Materia</td>\n",
       "      <td>2019</td>\n",
       "      <td>Abríl</td>\n",
       "    </tr>\n",
       "    <tr>\n",
       "      <th>4</th>\n",
       "      <td>Amenaza Con Arma (Falta) Art. 494 Nº 4 Codigo ...</td>\n",
       "      <td>1</td>\n",
       "      <td>10º Juzgado De Garantia De Santiago</td>\n",
       "      <td>Ingresos Causas Por Materia</td>\n",
       "      <td>2019</td>\n",
       "      <td>Abríl</td>\n",
       "    </tr>\n",
       "    <tr>\n",
       "      <th>5</th>\n",
       "      <td>Amenazas Condic.c/Personas Y Propiedades Art.2...</td>\n",
       "      <td>3</td>\n",
       "      <td>10º Juzgado De Garantia De Santiago</td>\n",
       "      <td>Ingresos Causas Por Materia</td>\n",
       "      <td>2019</td>\n",
       "      <td>Abríl</td>\n",
       "    </tr>\n",
       "    <tr>\n",
       "      <th>...</th>\n",
       "      <td>...</td>\n",
       "      <td>...</td>\n",
       "      <td>...</td>\n",
       "      <td>...</td>\n",
       "      <td>...</td>\n",
       "      <td>...</td>\n",
       "    </tr>\n",
       "    <tr>\n",
       "      <th>75</th>\n",
       "      <td>Usurpacion De Nombre.</td>\n",
       "      <td>1</td>\n",
       "      <td>Juzgado De Garantia De Talcahuano</td>\n",
       "      <td>Ingresos Causas Por Materia</td>\n",
       "      <td>2019</td>\n",
       "      <td>Enero</td>\n",
       "    </tr>\n",
       "    <tr>\n",
       "      <th>76</th>\n",
       "      <td>Usurpacion De Propiedad,Descubrimiento O Produ...</td>\n",
       "      <td>2</td>\n",
       "      <td>Juzgado De Garantia De Talcahuano</td>\n",
       "      <td>Ingresos Causas Por Materia</td>\n",
       "      <td>2019</td>\n",
       "      <td>Enero</td>\n",
       "    </tr>\n",
       "    <tr>\n",
       "      <th>77</th>\n",
       "      <td>Usurpacion No Violenta (Art. 458 Codigo Penal).</td>\n",
       "      <td>2</td>\n",
       "      <td>Juzgado De Garantia De Talcahuano</td>\n",
       "      <td>Ingresos Causas Por Materia</td>\n",
       "      <td>2019</td>\n",
       "      <td>Enero</td>\n",
       "    </tr>\n",
       "    <tr>\n",
       "      <th>78</th>\n",
       "      <td>Violacion  De Morada.</td>\n",
       "      <td>6</td>\n",
       "      <td>Juzgado De Garantia De Talcahuano</td>\n",
       "      <td>Ingresos Causas Por Materia</td>\n",
       "      <td>2019</td>\n",
       "      <td>Enero</td>\n",
       "    </tr>\n",
       "    <tr>\n",
       "      <th>79</th>\n",
       "      <td>Violacion De Menor De 14 Años.</td>\n",
       "      <td>2</td>\n",
       "      <td>Juzgado De Garantia De Talcahuano</td>\n",
       "      <td>Ingresos Causas Por Materia</td>\n",
       "      <td>2019</td>\n",
       "      <td>Enero</td>\n",
       "    </tr>\n",
       "  </tbody>\n",
       "</table>\n",
       "<p>85384 rows × 6 columns</p>\n",
       "</div>"
      ],
      "text/plain": [
       "0                                             Materia Total  \\\n",
       "1   Abuso Sexual Con Contacto De Menor De 14 Años....     2   \n",
       "2   Abuso Sexual Sin Contacto Art. 366 Quáter Inc....     1   \n",
       "3                          Allanamientos Irregulares.     1   \n",
       "4   Amenaza Con Arma (Falta) Art. 494 Nº 4 Codigo ...     1   \n",
       "5   Amenazas Condic.c/Personas Y Propiedades Art.2...     3   \n",
       "..                                                ...   ...   \n",
       "75                              Usurpacion De Nombre.     1   \n",
       "76  Usurpacion De Propiedad,Descubrimiento O Produ...     2   \n",
       "77    Usurpacion No Violenta (Art. 458 Codigo Penal).     2   \n",
       "78                              Violacion  De Morada.     6   \n",
       "79                     Violacion De Menor De 14 Años.     2   \n",
       "\n",
       "0                              Tribunal                      Informe   Año  \\\n",
       "1   10º Juzgado De Garantia De Santiago  Ingresos Causas Por Materia  2019   \n",
       "2   10º Juzgado De Garantia De Santiago  Ingresos Causas Por Materia  2019   \n",
       "3   10º Juzgado De Garantia De Santiago  Ingresos Causas Por Materia  2019   \n",
       "4   10º Juzgado De Garantia De Santiago  Ingresos Causas Por Materia  2019   \n",
       "5   10º Juzgado De Garantia De Santiago  Ingresos Causas Por Materia  2019   \n",
       "..                                  ...                          ...   ...   \n",
       "75    Juzgado De Garantia De Talcahuano  Ingresos Causas Por Materia  2019   \n",
       "76    Juzgado De Garantia De Talcahuano  Ingresos Causas Por Materia  2019   \n",
       "77    Juzgado De Garantia De Talcahuano  Ingresos Causas Por Materia  2019   \n",
       "78    Juzgado De Garantia De Talcahuano  Ingresos Causas Por Materia  2019   \n",
       "79    Juzgado De Garantia De Talcahuano  Ingresos Causas Por Materia  2019   \n",
       "\n",
       "0     Mes  \n",
       "1   Abríl  \n",
       "2   Abríl  \n",
       "3   Abríl  \n",
       "4   Abríl  \n",
       "5   Abríl  \n",
       "..    ...  \n",
       "75  Enero  \n",
       "76  Enero  \n",
       "77  Enero  \n",
       "78  Enero  \n",
       "79  Enero  \n",
       "\n",
       "[85384 rows x 6 columns]"
      ]
     },
     "execution_count": 37,
     "metadata": {},
     "output_type": "execute_result"
    }
   ],
   "source": [
    "salida = []\n",
    "for i in archivos:\n",
    "    df = pd.read_excel(\"Consolidacion/\"+i)\n",
    "    tribunal = i.split(\"_\")[1]\n",
    "    informe = i.split(\"_\")[2]\n",
    "    mes = i.split(\"_\")[3].split(\"-\")[1].split(\".\")[0]\n",
    "    anio = i.split(\"_\")[3].split(\"-\")[0]\n",
    "    #break\n",
    "    df.columns = df.iloc[0]\n",
    "    df = df.drop([0],axis=0)\n",
    "    df[\"Tribunal\"]=tribunal = i.split(\"_\")[1]\n",
    "    df[\"Informe\"]=informe\n",
    "    df[\"Año\"]=anio\n",
    "    df[\"Mes\"]=mes\n",
    "    salida.append(df.copy())\n",
    "final = pd.concat(salida)\n",
    "final\n",
    "#final.to_excel(\"Pensiones_Numero_afiliados_segun_Fondo_tipo_sexo.xlsx\", index=False)"
   ]
  },
  {
   "cell_type": "code",
   "execution_count": 40,
   "metadata": {},
   "outputs": [],
   "source": [
    "final.to_excel(\"Juzgados de Garantía_\"+informe+\"_\"+anio+\".xlsx\", index=False)"
   ]
  },
  {
   "cell_type": "code",
   "execution_count": null,
   "metadata": {},
   "outputs": [],
   "source": [
    "for i in archivos:\n",
    "    df = pd.read_excel(\"Consolidacion/\"+i)\n",
    "    mes = i[73:-5]\n",
    "    print(mes)\n",
    "#subc = \"Abr\"\n",
    "#posicion = mes.index(subc)\n",
    "#posicion"
   ]
  },
  {
   "cell_type": "code",
   "execution_count": 31,
   "metadata": {},
   "outputs": [
    {
     "data": {
      "text/plain": [
       "'Ingresos Causas Por Materia'"
      ]
     },
     "execution_count": 31,
     "metadata": {},
     "output_type": "execute_result"
    }
   ],
   "source": [
    "informe = i.split(\"_\")[2]\n",
    "informe"
   ]
  },
  {
   "cell_type": "code",
   "execution_count": 16,
   "metadata": {},
   "outputs": [
    {
     "name": "stdout",
     "output_type": "stream",
     "text": [
      "2019\n"
     ]
    }
   ],
   "source": [
    "anio = i[68:72]\n",
    "print(anio)"
   ]
  },
  {
   "cell_type": "code",
   "execution_count": null,
   "metadata": {},
   "outputs": [],
   "source": []
  }
 ],
 "metadata": {
  "kernelspec": {
   "display_name": "Python 3",
   "language": "python",
   "name": "python3"
  },
  "language_info": {
   "codemirror_mode": {
    "name": "ipython",
    "version": 3
   },
   "file_extension": ".py",
   "mimetype": "text/x-python",
   "name": "python",
   "nbconvert_exporter": "python",
   "pygments_lexer": "ipython3",
   "version": "3.8.5"
  }
 },
 "nbformat": 4,
 "nbformat_minor": 4
}
