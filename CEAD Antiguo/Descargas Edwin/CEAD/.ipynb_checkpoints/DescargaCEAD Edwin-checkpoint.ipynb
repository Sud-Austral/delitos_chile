{
 "cells": [
  {
   "cell_type": "code",
   "execution_count": null,
   "metadata": {},
   "outputs": [],
   "source": [
    "#Nota: Ejecutar en orden 1 por 1\n"
   ]
  },
  {
   "cell_type": "code",
   "execution_count": 1,
   "metadata": {},
   "outputs": [],
   "source": [
    "#Autor: Ian M.\n",
    "#Fecha: 03/06/2021\n",
    "\n",
    "\n",
    "import pandas as pd\n",
    "import shutil\n",
    "import time\n",
    "import glob\n",
    "import os\n",
    "import numpy as np\n",
    "from datetime import datetime\n",
    "from selenium import webdriver\n",
    "from selenium.webdriver.firefox.options import Options"
   ]
  },
  {
   "cell_type": "code",
   "execution_count": null,
   "metadata": {},
   "outputs": [],
   "source": [
    "###Ojo en la línea 6, cambiar la ruta por la carpeta en la que descargarán los archivos\n",
    "\n",
    "#Función controladora del webdriver\n",
    "def getDriver(url):   \n",
    "    \n",
    "    download_folder = r\"C:\\Users\\edwin\\Downloads\\CEAD\" #Cambiar ruta de carpeta donde se descargarán los archivos\n",
    "    \n",
    "    options = Options()\n",
    "    #options = webdriver.FirefoxProfile()\n",
    "    options.set_preference(\"browser.download.folderList\", 2)\n",
    "    options.set_preference(\"browser.download.dir\", download_folder)\n",
    "    \n",
    "    options.set_preference(\"browser.download.manager.showWhenStarting\", False)\n",
    "    #options.set_preference(\"browser.helperApps.neverAsk.saveToDisk\", \"application/vnd.ms-excel\")\n",
    "    #options.set_preference(\"browser.helperApps.neverAsk.openFile\",\"text/csv\")\n",
    "    options.set_preference(\"browser.helperApps.neverAsk.saveToDisk\",\"text/csv\")\n",
    "    \n",
    "    #browser = webdriver.WebDriver(firefox_profile=profile)\n",
    "    #driver = webdriver.WebDriver(firefox_profile=profile)\n",
    "    #firefox_profile\n",
    "    driver = webdriver.Firefox(options = options)\n",
    "    driver.set_page_load_timeout(\"60\")\n",
    "    driver.get(url)\n",
    "    return driver"
   ]
  },
  {
   "cell_type": "code",
   "execution_count": null,
   "metadata": {},
   "outputs": [],
   "source": [
    "#Abrimos el driver y cargamos el sitio web\n",
    "driver = getDriver(\"http://cead.spd.gov.cl/estadisticas-delictuales/\")\n",
    "\n",
    "time.sleep(5)\n",
    "\n",
    "#Le indicamos que seleccione \"Sexo y Edad de Víctimas y Victimarios\"\n",
    "sexo = driver.find_element_by_xpath('/html/body/div[5]/div[1]/div[1]/div/div/div/ul/li[3]/a')\n",
    "sexo.click()"
   ]
  },
  {
   "cell_type": "code",
   "execution_count": null,
   "metadata": {},
   "outputs": [],
   "source": [
    "#Desplegamos Año\n",
    "btn_anio = driver.find_element_by_xpath('/html/body/div[5]/div[1]/div[1]/div/div/div/div[1]/div/div/div[3]/div[3]/div/div/div/div[1]/div[2]/div[1]')\n",
    "btn_anio.click()\n",
    "\n",
    "#seleccionamos todos los años\n",
    "x = range(2,19)\n",
    "for i in x:\n",
    "    a = driver.find_element_by_xpath('/html/body/div[5]/div[1]/div[1]/div/div/div/div[1]/div/div/div[3]/div[3]/div/div/div/div[1]/div[2]/div['+str(i)+']/input')\n",
    "    a.click()"
   ]
  },
  {
   "cell_type": "code",
   "execution_count": null,
   "metadata": {},
   "outputs": [],
   "source": [
    "#Desplegamos Mes\n",
    "btn_mes = driver.find_element_by_xpath('/html/body/div[5]/div[1]/div[1]/div/div/div/div[1]/div/div/div[3]/div[3]/div/div/div/div[1]/div[4]/div[1]')\n",
    "btn_mes.click()\n",
    "#seleccionamos todos los meses\n",
    "y = range(1,13)\n",
    "for i in y:\n",
    "    m = driver.find_element_by_xpath('//*[@id=\"mes_'+str(i)+'\"]')\n",
    "    m.click()"
   ]
  },
  {
   "cell_type": "code",
   "execution_count": null,
   "metadata": {},
   "outputs": [],
   "source": [
    "#Desplegar Comuna\n",
    "btn_comuna = driver.find_element_by_xpath('/html/body/div[5]/div[1]/div[1]/div/div/div/div[1]/div/div/div[3]/div[1]/div/div/div/div[1]/div[3]/div[1]')\n",
    "btn_comuna.click()"
   ]
  },
  {
   "cell_type": "code",
   "execution_count": null,
   "metadata": {},
   "outputs": [],
   "source": [
    "#Desplegar delitos\n",
    "btn_del = driver.find_element_by_xpath('/html/body/div[5]/div[1]/div[1]/div/div/div/div[1]/div/div/div[3]/div[2]/div/div/div/div[1]/div[3]/div[1]')\n",
    "btn_del.click()"
   ]
  },
  {
   "cell_type": "code",
   "execution_count": null,
   "metadata": {},
   "outputs": [],
   "source": [
    "####### Ciclo principal #######\n",
    "\n",
    "##Ojo en la línea 27, cambiar la ruta por la carpeta en la que descargarán los archivos\n",
    "\n",
    "#Ciclo para seleccionar comunas\n",
    "x = range(89, 175)\n",
    "for i in x:\n",
    "    c = driver.find_element_by_xpath('/html/body/div[5]/div[1]/div[1]/div/div/div/div[1]/div/div/div[3]/div[1]/div/div/div/div[1]/div[3]/div['+str(i)+']/input')\n",
    "    comuna = driver.find_element_by_xpath('/html/body/div[5]/div[1]/div[1]/div/div/div/div[1]/div/div/div[3]/div[1]/div/div/div/div[1]/div[3]/div['+str(i)+']')\n",
    "    c.click()\n",
    "    \n",
    "    z = range(2,37)\n",
    "    for j in z:\n",
    "        d = driver.find_element_by_xpath('/html/body/div[5]/div[1]/div[1]/div/div/div/div[1]/div/div/div[3]/div[2]/div/div/div/div[1]/div[3]/div['+str(j)+']/input')\n",
    "        d.click()\n",
    "        delito = driver.find_element_by_xpath('/html/body/div[5]/div[1]/div[1]/div/div/div/div[1]/div/div/div[3]/div[2]/div/div/div/div[1]/div[3]/div['+str(j)+']')\n",
    "        btnBuscar = driver.find_element_by_xpath('//*[@id=\"generaReporte\"]')\n",
    "        btnBuscar.click()\n",
    "        \n",
    "       \n",
    "        time.sleep(45)\n",
    "        \n",
    "        btnDescarga = driver.find_element_by_xpath('/html/body/div[5]/div[1]/div[1]/div/div/div/div[2]/div[3]/div[3]/div/div/div/div[2]/a')\n",
    "        btnDescarga.click()\n",
    "        d.click()\n",
    "        time.sleep(25)\n",
    "        os.rename(r'C:\\Users\\edwin\\Downloads\\CEAD\\reportesEstadisticos-sexoEdad.xls',r'C:\\Users\\edwin\\Downloads\\CEAD\\CEAD_'+comuna.text+'_'+delito.text+'.xls')\n",
    "        #Cambiar en la línea anterior, la ruta de carpeta donde se descargarán los archivos\n",
    "    c.click()"
   ]
  }
 ],
 "metadata": {
  "kernelspec": {
   "display_name": "Python 3",
   "language": "python",
   "name": "python3"
  },
  "language_info": {
   "codemirror_mode": {
    "name": "ipython",
    "version": 3
   },
   "file_extension": ".py",
   "mimetype": "text/x-python",
   "name": "python",
   "nbconvert_exporter": "python",
   "pygments_lexer": "ipython3",
   "version": "3.8.5"
  }
 },
 "nbformat": 4,
 "nbformat_minor": 4
}
